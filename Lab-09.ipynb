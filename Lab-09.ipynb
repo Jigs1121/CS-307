{
 "cells": [
  {
   "cell_type": "markdown",
   "metadata": {},
   "source": [
    "# Predicting Sentiment Tweets"
   ]
  },
  {
   "cell_type": "markdown",
   "metadata": {},
   "source": [
    "---\n",
    "embed-resources: true\n",
    "---"
   ]
  },
  {
   "cell_type": "markdown",
   "metadata": {},
   "source": [
    "## Introduction"
   ]
  },
  {
   "cell_type": "markdown",
   "metadata": {},
   "source": [
    "Today, I will be making a model that will alert airline customer services to respond to negative posts on twitter, or tweets, and acknowledge positive tweets from people. This model only works for the available dataset."
   ]
  },
  {
   "cell_type": "markdown",
   "metadata": {},
   "source": [
    "## Methods"
   ]
  },
  {
   "cell_type": "code",
   "execution_count": 23,
   "metadata": {},
   "outputs": [],
   "source": [
    "# importsimport numpy as np\n",
    "import pandas as pd\n",
    "import seaborn as sns\n",
    "import matplotlib.pyplot as plt\n",
    "from joblib import dump\n",
    "\n",
    "\n",
    "from sklearn.model_selection import train_test_split\n",
    "from sklearn.model_selection import GridSearchCV\n",
    "from sklearn.pipeline import Pipeline\n",
    "from sklearn.linear_model import LogisticRegression\n",
    "from sklearn.model_selection import GridSearchCV\n",
    "from sklearn.pipeline import make_pipeline\n",
    "from sklearn.metrics import accuracy_score\n",
    "import seaborn as sns\n",
    "from sklearn.feature_extraction.text import CountVectorizer\n",
    "from pprint import pprint\n",
    "from sklearn.metrics import ConfusionMatrixDisplay"
   ]
  },
  {
   "cell_type": "markdown",
   "metadata": {},
   "source": [
    "### Data"
   ]
  },
  {
   "cell_type": "code",
   "execution_count": 24,
   "metadata": {},
   "outputs": [
    {
     "data": {
      "text/html": [
       "<div>\n",
       "<style scoped>\n",
       "    .dataframe tbody tr th:only-of-type {\n",
       "        vertical-align: middle;\n",
       "    }\n",
       "\n",
       "    .dataframe tbody tr th {\n",
       "        vertical-align: top;\n",
       "    }\n",
       "\n",
       "    .dataframe thead th {\n",
       "        text-align: right;\n",
       "    }\n",
       "</style>\n",
       "<table border=\"1\" class=\"dataframe\">\n",
       "  <thead>\n",
       "    <tr style=\"text-align: right;\">\n",
       "      <th></th>\n",
       "      <th>sentiment</th>\n",
       "      <th>airline</th>\n",
       "      <th>text</th>\n",
       "    </tr>\n",
       "  </thead>\n",
       "  <tbody>\n",
       "    <tr>\n",
       "      <th>8318</th>\n",
       "      <td>positive</td>\n",
       "      <td>Delta</td>\n",
       "      <td>@JetBlue Then en route to the airport the rebo...</td>\n",
       "    </tr>\n",
       "    <tr>\n",
       "      <th>3763</th>\n",
       "      <td>negative</td>\n",
       "      <td>United</td>\n",
       "      <td>@united now you've lost my bags too.  At least...</td>\n",
       "    </tr>\n",
       "    <tr>\n",
       "      <th>9487</th>\n",
       "      <td>neutral</td>\n",
       "      <td>US Airways</td>\n",
       "      <td>@USAirways Hi, can you attach my AA FF# 94LXA6...</td>\n",
       "    </tr>\n",
       "    <tr>\n",
       "      <th>2591</th>\n",
       "      <td>positive</td>\n",
       "      <td>United</td>\n",
       "      <td>@United, will you fill it? Yes they will. Than...</td>\n",
       "    </tr>\n",
       "    <tr>\n",
       "      <th>12887</th>\n",
       "      <td>negative</td>\n",
       "      <td>American</td>\n",
       "      <td>@AmericanAir thanks! I hope we get movies. Tv'...</td>\n",
       "    </tr>\n",
       "    <tr>\n",
       "      <th>...</th>\n",
       "      <td>...</td>\n",
       "      <td>...</td>\n",
       "      <td>...</td>\n",
       "    </tr>\n",
       "    <tr>\n",
       "      <th>3416</th>\n",
       "      <td>negative</td>\n",
       "      <td>United</td>\n",
       "      <td>@united Can i get a refund? I would like to bo...</td>\n",
       "    </tr>\n",
       "    <tr>\n",
       "      <th>279</th>\n",
       "      <td>neutral</td>\n",
       "      <td>Virgin America</td>\n",
       "      <td>@VirginAmerica what is your policy on flying a...</td>\n",
       "    </tr>\n",
       "    <tr>\n",
       "      <th>1814</th>\n",
       "      <td>negative</td>\n",
       "      <td>United</td>\n",
       "      <td>@united I'm not sure how you can help. Your fl...</td>\n",
       "    </tr>\n",
       "    <tr>\n",
       "      <th>29</th>\n",
       "      <td>neutral</td>\n",
       "      <td>Virgin America</td>\n",
       "      <td>@VirginAmerica LAX to EWR - Middle seat on a r...</td>\n",
       "    </tr>\n",
       "    <tr>\n",
       "      <th>1130</th>\n",
       "      <td>negative</td>\n",
       "      <td>United</td>\n",
       "      <td>@united Hopefully my baggage fees will be waiv...</td>\n",
       "    </tr>\n",
       "  </tbody>\n",
       "</table>\n",
       "<p>8235 rows × 3 columns</p>\n",
       "</div>"
      ],
      "text/plain": [
       "      sentiment         airline  \\\n",
       "8318   positive           Delta   \n",
       "3763   negative          United   \n",
       "9487    neutral      US Airways   \n",
       "2591   positive          United   \n",
       "12887  negative        American   \n",
       "...         ...             ...   \n",
       "3416   negative          United   \n",
       "279     neutral  Virgin America   \n",
       "1814   negative          United   \n",
       "29      neutral  Virgin America   \n",
       "1130   negative          United   \n",
       "\n",
       "                                                    text  \n",
       "8318   @JetBlue Then en route to the airport the rebo...  \n",
       "3763   @united now you've lost my bags too.  At least...  \n",
       "9487   @USAirways Hi, can you attach my AA FF# 94LXA6...  \n",
       "2591   @United, will you fill it? Yes they will. Than...  \n",
       "12887  @AmericanAir thanks! I hope we get movies. Tv'...  \n",
       "...                                                  ...  \n",
       "3416   @united Can i get a refund? I would like to bo...  \n",
       "279    @VirginAmerica what is your policy on flying a...  \n",
       "1814   @united I'm not sure how you can help. Your fl...  \n",
       "29     @VirginAmerica LAX to EWR - Middle seat on a r...  \n",
       "1130   @united Hopefully my baggage fees will be waiv...  \n",
       "\n",
       "[8235 rows x 3 columns]"
      ]
     },
     "execution_count": 24,
     "metadata": {},
     "output_type": "execute_result"
    }
   ],
   "source": [
    "# load data\n",
    "tweets_train = pd.read_parquet(\n",
    "    \"https://cs307.org/lab/data/tweets-train.parquet\",\n",
    ")\n",
    "tweets_test = pd.read_parquet(\n",
    "    \"https://cs307.org/lab/data/tweets-test.parquet\",\n",
    ")\n",
    "tweets_train"
   ]
  },
  {
   "cell_type": "markdown",
   "metadata": {},
   "source": [
    "In the train data above, each row represents a tweet and shows the tweet itself, what airline it was sent to, and its sentiment level. The variables in the data are:\n",
    "\n",
    "### Response \n",
    "\n",
    "**`Sentiment`**\n",
    "\n",
    "- [object] the sentiment of the tweet. One of negative, neutral, or positive.\n",
    "\n",
    "\n",
    "### Features\n",
    "\n",
    "**`Text`**\n",
    "\n",
    "- [object] the full text of the tweet.\n",
    "\n",
    "### Additional Variables\n",
    "\n",
    "**`Airline`**\n",
    "\n",
    "- [object] the airline the tweet was “sent” to."
   ]
  },
  {
   "cell_type": "markdown",
   "metadata": {},
   "source": [
    "In the train data, we have 8235 different tweets, what type of sentiment it was, and the airline it was sent to"
   ]
  },
  {
   "cell_type": "code",
   "execution_count": 25,
   "metadata": {},
   "outputs": [
    {
     "name": "stdout",
     "output_type": "stream",
     "text": [
      "airline\n",
      "United            2166\n",
      "US Airways        1664\n",
      "American          1551\n",
      "Southwest         1347\n",
      "Delta             1239\n",
      "Virgin America     268\n",
      "Name: count, dtype: int64\n",
      "\n",
      "airline\n",
      "United            0.263024\n",
      "US Airways        0.202064\n",
      "American          0.188342\n",
      "Southwest         0.163570\n",
      "Delta             0.150455\n",
      "Virgin America    0.032544\n",
      "Name: count, dtype: float64\n"
     ]
    }
   ],
   "source": [
    "# summary statistics\n",
    "count = tweets_train['airline'].value_counts()\n",
    "porp = count / 8235\n",
    "print(count)\n",
    "print(\"\")\n",
    "print(porp)"
   ]
  },
  {
   "cell_type": "markdown",
   "metadata": {},
   "source": [
    "The data above shows how many tweets were sent to each airline and the proportion it took up in the train data"
   ]
  },
  {
   "cell_type": "code",
   "execution_count": 26,
   "metadata": {},
   "outputs": [
    {
     "name": "stdout",
     "output_type": "stream",
     "text": [
      "cancelled    595\n",
      "please       325\n",
      "thanks       587\n",
      "dtype: int64\n"
     ]
    }
   ],
   "source": [
    "\n",
    "vec = CountVectorizer(vocabulary=['cancelled', 'please', 'thanks'])\n",
    "word_counts = vec.fit_transform(tweets_train['text'])\n",
    "word_counts_df = pd.DataFrame(word_counts.toarray(), columns=vec.get_feature_names_out())\n",
    "word_totals = word_counts_df.sum()\n",
    "\n",
    "print(word_totals)"
   ]
  },
  {
   "cell_type": "markdown",
   "metadata": {},
   "source": [
    "The data above shows how many of each of the chosen words were appeared in the train data"
   ]
  },
  {
   "cell_type": "code",
   "execution_count": 27,
   "metadata": {},
   "outputs": [
    {
     "data": {
      "image/png": "[encoded data removed]",
      "text/plain": [
       "<Figure size 640x480 with 1 Axes>"
      ]
     },
     "metadata": {},
     "output_type": "display_data"
    }
   ],
   "source": [
    "# exploratory visualization\n",
    "sns.countplot(data=tweets_train, x='sentiment', order=tweets_train['sentiment'].value_counts().index)\n",
    "plt.title('Distribution of Sentiments in Training Data')\n",
    "plt.xlabel('Sentiment')\n",
    "plt.ylabel('Count')\n",
    "plt.show()"
   ]
  },
  {
   "cell_type": "markdown",
   "metadata": {},
   "source": [
    "From the graph above, most of our train data consists of negative sentiment tweets. This could foreshadow our model may not be so accurate due to the train data having a majority of one variable. Since there is a lot of negative sentiment tweets, the model will learn those negative sentiment patterns more than neutral and positive because there aren't too many tweets in those categories."
   ]
  },
  {
   "cell_type": "markdown",
   "metadata": {},
   "source": [
    "### Models"
   ]
  },
  {
   "cell_type": "code",
   "execution_count": 28,
   "metadata": {},
   "outputs": [],
   "source": [
    "# process data for ML\n",
    "# create X and y for train data\n",
    "X_train = tweets_train[\"text\"]\n",
    "y_train = tweets_train[\"sentiment\"]\n",
    "\n",
    "# create X and y for test data\n",
    "X_test = tweets_test[\"text\"]\n",
    "y_test = tweets_test[\"sentiment\"]\n",
    "\n",
    "tweets_vtrain, tweets_validation = train_test_split(\n",
    "    tweets_train,\n",
    "    test_size=0.36,\n",
    ")\n",
    "\n",
    "X_validation = tweets_validation[\"text\"]\n",
    "y_validation = tweets_validation[\"sentiment\"]\n",
    "\n",
    "#create x and y for validation train\n",
    "X_vtrain = tweets_vtrain[\"text\"]\n",
    "y_vtrain = tweets_vtrain[\"sentiment\"]\n"
   ]
  },
  {
   "cell_type": "markdown",
   "metadata": {},
   "source": [
    "I will split the train and test data once more into validation datasets to get more accurate results"
   ]
  },
  {
   "cell_type": "code",
   "execution_count": 29,
   "metadata": {},
   "outputs": [
    {
     "name": "stdout",
     "output_type": "stream",
     "text": [
      "First Test accuracy: 0.7851602023608769\n"
     ]
    }
   ],
   "source": [
    "#train models\n",
    "pipeline = Pipeline([\n",
    "    ('vec', CountVectorizer(lowercase= True)),  \n",
    "    ('clf', LogisticRegression(max_iter=200))  \n",
    "])\n",
    "\n",
    "\n",
    "param_grid = {\n",
    "    'vec__max_features': [1, 100, 300, 500, 1000, 2000, 5000, 10000, 15000, 20000, 30000],\n",
    "    'vec__ngram_range': [(1, 1), (1, 2)],\n",
    "    'clf__C': [0.0001, 0.01, 0.1, 1, 10],           \n",
    "}\n",
    "\n",
    "model = GridSearchCV(\n",
    "    pipeline, \n",
    "    param_grid, \n",
    "    cv=5, \n",
    "    scoring='accuracy', \n",
    "    n_jobs=-1)\n",
    "\n",
    "_ = model.fit(X_vtrain, y_vtrain)\n",
    "first_pred = model.predict(X_validation)\n",
    "first_test_accuracy = accuracy_score(y_validation, first_pred)\n",
    "print(f\"First Test accuracy: {first_test_accuracy}\")"
   ]
  },
  {
   "cell_type": "markdown",
   "metadata": {},
   "source": [
    "When conducting the first test accuracy on the validation sets, we are able to see which parameters worked best on our model. We will use the best parameters on the final prediction on the test data"
   ]
  },
  {
   "cell_type": "markdown",
   "metadata": {},
   "source": [
    "## Results"
   ]
  },
  {
   "cell_type": "code",
   "execution_count": 30,
   "metadata": {},
   "outputs": [
    {
     "name": "stdout",
     "output_type": "stream",
     "text": [
      "Final Test Accuracy: 0.8014571948998178\n"
     ]
    }
   ],
   "source": [
    "# report model metrics\n",
    "best_params = model.best_params_\n",
    "final_model = Pipeline([\n",
    "    ('vec', CountVectorizer(\n",
    "        lowercase=True,\n",
    "        max_features=best_params['vec__max_features'],\n",
    "        ngram_range=best_params['vec__ngram_range']\n",
    "    )),\n",
    "    ('clf', LogisticRegression(\n",
    "        max_iter=200,\n",
    "        C=best_params['clf__C']\n",
    "    ))\n",
    "])\n",
    "_ = final_model.fit(X_train, y_train)\n",
    "pred_test = final_model.predict(X_test)\n",
    "final_accuracy = accuracy_score(y_test, pred_test)\n",
    "print(f\"Final Test Accuracy: {final_accuracy}\")"
   ]
  },
  {
   "cell_type": "markdown",
   "metadata": {},
   "source": [
    "We were able to achieve a final test accuracy score of 0.8014 with the model having the best parameters"
   ]
  },
  {
   "cell_type": "code",
   "execution_count": 32,
   "metadata": {},
   "outputs": [
    {
     "data": {
      "text/plain": [
       "['tweets.joblib']"
      ]
     },
     "execution_count": 32,
     "metadata": {},
     "output_type": "execute_result"
    }
   ],
   "source": [
    "# serialize model\n",
    "dump(final_model, 'tweets.joblib')"
   ]
  },
  {
   "cell_type": "markdown",
   "metadata": {},
   "source": [
    "## Discussion"
   ]
  },
  {
   "cell_type": "markdown",
   "metadata": {},
   "source": [
    "For our final model, it was able to achieve an accuracy score of 0.8014. This means that when the model is predicting a tweet's sentiment level, it will correctly predict the sentiment level 80.14% of the time.\n",
    "\n",
    "This accuracy score is okay but it is not optimal enough to be used. Only getting 80% correct of sentiment levels is not good and could cause many of the tweets to be predicted incorrectly. The reason for this low accuracy is because the data we have is very imbalanced. In other words, there too much of one category. From the summary statistics seen above, we see that we have way more negative tweets. Almost half of the data we used consists of negative tweets which makes sense as to why the model's accuracy not being good enough. Since there aren't that much positive and neutral tweets to learn from, it will be harder for the model to detect any patterns for positive and neutral tweets.\n",
    "\n",
    "One way to improve the accuracy score is to add more data specifically for positive and neutral tweets. Having an even number of each type of tweet will help the model learn better and see patterns more for each type of tweet.\n",
    "\n",
    "The confusion matrix can also help us how well the model did. When looking at the negative tweets, the model was able to correctly identify the negative tweets pretty well. This makes sense due to having so many negative tweets in the data. It also did a decent job of predicting positive comments as well but it struggled a bit on correctly identifying neutral tweets. The model only has an accuracy score of 63.28% when trying to predict neutral comments which is not good at all.\n",
    "\n",
    "Overall, we should not use this model because the accuracy score is too low and it can be annoying when the model predicts so many tweet sentiment levels incorrectly. In order to maximize accuracy, we should be aiming for higher accuracy scores like above 95%. "
   ]
  },
  {
   "cell_type": "code",
   "execution_count": 34,
   "metadata": {},
   "outputs": [
    {
     "data": {
      "image/png": "[encoded data removed]",
      "text/plain": [
       "<Figure size 640x480 with 2 Axes>"
      ]
     },
     "metadata": {},
     "output_type": "display_data"
    }
   ],
   "source": [
    "# summary figure\n",
    "ConfusionMatrixDisplay.from_predictions(y_test, pred_test, display_labels=final_model.classes_, cmap='Blues')\n",
    "plt.title('Confusion Matrix of Final Model')\n",
    "plt.xlabel('Predicted')\n",
    "plt.ylabel('Actual')\n",
    "plt.show()"
   ]
  }
 ],
 "metadata": {
  "kernelspec": {
   "display_name": ".venv",
   "language": "python",
   "name": "python3"
  },
  "language_info": {
   "codemirror_mode": {
    "name": "ipython",
    "version": 3
   },
   "file_extension": ".py",
   "mimetype": "text/x-python",
   "name": "python",
   "nbconvert_exporter": "python",
   "pygments_lexer": "ipython3",
   "version": "3.12.8"
  }
 },
 "nbformat": 4,
 "nbformat_minor": 2
}
