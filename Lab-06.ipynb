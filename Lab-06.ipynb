{
 "cells": [
  {
   "cell_type": "markdown",
   "metadata": {},
   "source": [
    "# Predicting a transaction as fraud or genuine"
   ]
  },
  {
   "cell_type": "markdown",
   "metadata": {},
   "source": [
    "---\n",
    "embed-resources: true\n",
    "---"
   ]
  },
  {
   "cell_type": "markdown",
   "metadata": {},
   "source": [
    "## Introduction"
   ]
  },
  {
   "cell_type": "markdown",
   "metadata": {},
   "source": [
    "Today, I develop a model where it will predict a transaction is fraud or genuine. As soon as a transaction has been made by someone, the model will identify whether the transaction was fraud or genuine based on information of the transactions, such as location, time, amount, etc. In this case, 0 represents a transaction being genuine and 1 being frauds. This model only works on this dataset."
   ]
  },
  {
   "cell_type": "markdown",
   "metadata": {},
   "source": [
    "## Methods"
   ]
  },
  {
   "cell_type": "code",
   "execution_count": 49,
   "metadata": {},
   "outputs": [],
   "source": [
    "# imports\n",
    "# imports\n",
    "# basic imports\n",
    "import numpy as np\n",
    "import pandas as pd\n",
    "import seaborn as sns\n",
    "import matplotlib.pyplot as plt\n",
    "from joblib import dump\n",
    "\n",
    "# machine learning imports\n",
    "from sklearn.model_selection import train_test_split\n",
    "from sklearn.neighbors import KNeighborsClassifier\n",
    "from sklearn.model_selection import GridSearchCV\n",
    "\n",
    "# preprocessing imports\n",
    "from sklearn.ensemble import RandomForestClassifier\n",
    "from sklearn.metrics import (\n",
    "    accuracy_score,\n",
    "    fbeta_score,\n",
    "    make_scorer,\n",
    "    precision_score,\n",
    "    recall_score,\n",
    ")\n",
    "from sklearn.metrics import confusion_matrix\n",
    "from pprint import pprint"
   ]
  },
  {
   "cell_type": "markdown",
   "metadata": {},
   "source": [
    "### Data"
   ]
  },
  {
   "cell_type": "code",
   "execution_count": 50,
   "metadata": {},
   "outputs": [
    {
     "data": {
      "text/html": [
       "<div>\n",
       "<style scoped>\n",
       "    .dataframe tbody tr th:only-of-type {\n",
       "        vertical-align: middle;\n",
       "    }\n",
       "\n",
       "    .dataframe tbody tr th {\n",
       "        vertical-align: top;\n",
       "    }\n",
       "\n",
       "    .dataframe thead th {\n",
       "        text-align: right;\n",
       "    }\n",
       "</style>\n",
       "<table border=\"1\" class=\"dataframe\">\n",
       "  <thead>\n",
       "    <tr style=\"text-align: right;\">\n",
       "      <th></th>\n",
       "      <th>PC01</th>\n",
       "      <th>PC02</th>\n",
       "      <th>PC03</th>\n",
       "      <th>PC04</th>\n",
       "      <th>PC05</th>\n",
       "      <th>PC06</th>\n",
       "      <th>PC07</th>\n",
       "      <th>PC08</th>\n",
       "      <th>PC09</th>\n",
       "      <th>PC10</th>\n",
       "      <th>...</th>\n",
       "      <th>PC21</th>\n",
       "      <th>PC22</th>\n",
       "      <th>PC23</th>\n",
       "      <th>PC24</th>\n",
       "      <th>PC25</th>\n",
       "      <th>PC26</th>\n",
       "      <th>PC27</th>\n",
       "      <th>PC28</th>\n",
       "      <th>Amount</th>\n",
       "      <th>Fraud</th>\n",
       "    </tr>\n",
       "  </thead>\n",
       "  <tbody>\n",
       "    <tr>\n",
       "      <th>137250</th>\n",
       "      <td>-0.514509</td>\n",
       "      <td>0.899378</td>\n",
       "      <td>1.627215</td>\n",
       "      <td>-0.142250</td>\n",
       "      <td>0.005250</td>\n",
       "      <td>-0.235422</td>\n",
       "      <td>0.482540</td>\n",
       "      <td>0.247403</td>\n",
       "      <td>-0.562327</td>\n",
       "      <td>-0.166813</td>\n",
       "      <td>...</td>\n",
       "      <td>-0.143290</td>\n",
       "      <td>-0.390205</td>\n",
       "      <td>0.030719</td>\n",
       "      <td>0.184779</td>\n",
       "      <td>-0.348711</td>\n",
       "      <td>0.073253</td>\n",
       "      <td>0.273217</td>\n",
       "      <td>0.107938</td>\n",
       "      <td>3.59</td>\n",
       "      <td>0</td>\n",
       "    </tr>\n",
       "    <tr>\n",
       "      <th>132979</th>\n",
       "      <td>-0.813568</td>\n",
       "      <td>-0.373893</td>\n",
       "      <td>1.152977</td>\n",
       "      <td>-0.449774</td>\n",
       "      <td>-3.868866</td>\n",
       "      <td>2.780636</td>\n",
       "      <td>3.654192</td>\n",
       "      <td>-0.672442</td>\n",
       "      <td>0.753230</td>\n",
       "      <td>-0.662803</td>\n",
       "      <td>...</td>\n",
       "      <td>-0.376783</td>\n",
       "      <td>-0.004239</td>\n",
       "      <td>0.074801</td>\n",
       "      <td>0.124238</td>\n",
       "      <td>-0.448493</td>\n",
       "      <td>0.861423</td>\n",
       "      <td>-0.093639</td>\n",
       "      <td>-0.711632</td>\n",
       "      <td>798.01</td>\n",
       "      <td>0</td>\n",
       "    </tr>\n",
       "    <tr>\n",
       "      <th>78191</th>\n",
       "      <td>-2.443142</td>\n",
       "      <td>3.258831</td>\n",
       "      <td>-0.791511</td>\n",
       "      <td>0.223548</td>\n",
       "      <td>0.007932</td>\n",
       "      <td>-1.263044</td>\n",
       "      <td>1.220214</td>\n",
       "      <td>-0.418068</td>\n",
       "      <td>1.860453</td>\n",
       "      <td>4.184883</td>\n",
       "      <td>...</td>\n",
       "      <td>-0.348587</td>\n",
       "      <td>0.531679</td>\n",
       "      <td>0.058990</td>\n",
       "      <td>0.371638</td>\n",
       "      <td>-0.207398</td>\n",
       "      <td>-0.505837</td>\n",
       "      <td>0.524542</td>\n",
       "      <td>-0.343895</td>\n",
       "      <td>1.79</td>\n",
       "      <td>0</td>\n",
       "    </tr>\n",
       "    <tr>\n",
       "      <th>113508</th>\n",
       "      <td>-0.397300</td>\n",
       "      <td>0.922104</td>\n",
       "      <td>1.224699</td>\n",
       "      <td>-0.334974</td>\n",
       "      <td>0.322603</td>\n",
       "      <td>-0.117372</td>\n",
       "      <td>0.534683</td>\n",
       "      <td>0.175550</td>\n",
       "      <td>-0.486404</td>\n",
       "      <td>-0.120147</td>\n",
       "      <td>...</td>\n",
       "      <td>-0.239303</td>\n",
       "      <td>-0.695001</td>\n",
       "      <td>-0.128231</td>\n",
       "      <td>-0.536463</td>\n",
       "      <td>-0.138971</td>\n",
       "      <td>0.107526</td>\n",
       "      <td>0.255644</td>\n",
       "      <td>0.100814</td>\n",
       "      <td>2.69</td>\n",
       "      <td>0</td>\n",
       "    </tr>\n",
       "    <tr>\n",
       "      <th>199222</th>\n",
       "      <td>1.994046</td>\n",
       "      <td>-0.367813</td>\n",
       "      <td>-0.462867</td>\n",
       "      <td>0.338661</td>\n",
       "      <td>-0.485326</td>\n",
       "      <td>-0.241576</td>\n",
       "      <td>-0.590987</td>\n",
       "      <td>0.089319</td>\n",
       "      <td>1.413224</td>\n",
       "      <td>-0.149292</td>\n",
       "      <td>...</td>\n",
       "      <td>-0.196388</td>\n",
       "      <td>-0.484457</td>\n",
       "      <td>0.421867</td>\n",
       "      <td>0.601393</td>\n",
       "      <td>-0.448014</td>\n",
       "      <td>-0.646256</td>\n",
       "      <td>0.027632</td>\n",
       "      <td>-0.027244</td>\n",
       "      <td>4.49</td>\n",
       "      <td>0</td>\n",
       "    </tr>\n",
       "    <tr>\n",
       "      <th>...</th>\n",
       "      <td>...</td>\n",
       "      <td>...</td>\n",
       "      <td>...</td>\n",
       "      <td>...</td>\n",
       "      <td>...</td>\n",
       "      <td>...</td>\n",
       "      <td>...</td>\n",
       "      <td>...</td>\n",
       "      <td>...</td>\n",
       "      <td>...</td>\n",
       "      <td>...</td>\n",
       "      <td>...</td>\n",
       "      <td>...</td>\n",
       "      <td>...</td>\n",
       "      <td>...</td>\n",
       "      <td>...</td>\n",
       "      <td>...</td>\n",
       "      <td>...</td>\n",
       "      <td>...</td>\n",
       "      <td>...</td>\n",
       "      <td>...</td>\n",
       "    </tr>\n",
       "    <tr>\n",
       "      <th>76424</th>\n",
       "      <td>-0.033583</td>\n",
       "      <td>-0.487672</td>\n",
       "      <td>1.435406</td>\n",
       "      <td>-2.759369</td>\n",
       "      <td>-1.785638</td>\n",
       "      <td>0.402364</td>\n",
       "      <td>-2.306038</td>\n",
       "      <td>-2.287179</td>\n",
       "      <td>0.129717</td>\n",
       "      <td>-1.036412</td>\n",
       "      <td>...</td>\n",
       "      <td>-1.286823</td>\n",
       "      <td>0.824100</td>\n",
       "      <td>0.018890</td>\n",
       "      <td>0.000018</td>\n",
       "      <td>0.301618</td>\n",
       "      <td>0.081215</td>\n",
       "      <td>0.163422</td>\n",
       "      <td>0.252456</td>\n",
       "      <td>10.00</td>\n",
       "      <td>0</td>\n",
       "    </tr>\n",
       "    <tr>\n",
       "      <th>264579</th>\n",
       "      <td>-0.731245</td>\n",
       "      <td>1.151677</td>\n",
       "      <td>0.912393</td>\n",
       "      <td>-0.653540</td>\n",
       "      <td>0.700577</td>\n",
       "      <td>-0.461372</td>\n",
       "      <td>1.093273</td>\n",
       "      <td>-0.126254</td>\n",
       "      <td>-0.339171</td>\n",
       "      <td>-0.467356</td>\n",
       "      <td>...</td>\n",
       "      <td>-0.368185</td>\n",
       "      <td>-0.991854</td>\n",
       "      <td>-0.376461</td>\n",
       "      <td>-0.661608</td>\n",
       "      <td>0.554237</td>\n",
       "      <td>0.450650</td>\n",
       "      <td>0.076395</td>\n",
       "      <td>0.096252</td>\n",
       "      <td>6.99</td>\n",
       "      <td>0</td>\n",
       "    </tr>\n",
       "    <tr>\n",
       "      <th>204332</th>\n",
       "      <td>2.135923</td>\n",
       "      <td>-0.714182</td>\n",
       "      <td>-1.842502</td>\n",
       "      <td>-0.587267</td>\n",
       "      <td>0.090754</td>\n",
       "      <td>-0.465733</td>\n",
       "      <td>-0.024834</td>\n",
       "      <td>-0.328747</td>\n",
       "      <td>-0.659832</td>\n",
       "      <td>0.853241</td>\n",
       "      <td>...</td>\n",
       "      <td>-0.537267</td>\n",
       "      <td>-1.081138</td>\n",
       "      <td>0.196589</td>\n",
       "      <td>0.087797</td>\n",
       "      <td>-0.111583</td>\n",
       "      <td>0.479888</td>\n",
       "      <td>-0.082523</td>\n",
       "      <td>-0.053305</td>\n",
       "      <td>64.90</td>\n",
       "      <td>0</td>\n",
       "    </tr>\n",
       "    <tr>\n",
       "      <th>167301</th>\n",
       "      <td>-0.335632</td>\n",
       "      <td>0.939736</td>\n",
       "      <td>-2.961515</td>\n",
       "      <td>-1.224739</td>\n",
       "      <td>4.446891</td>\n",
       "      <td>2.352092</td>\n",
       "      <td>0.789725</td>\n",
       "      <td>0.609460</td>\n",
       "      <td>-0.746845</td>\n",
       "      <td>-1.580751</td>\n",
       "      <td>...</td>\n",
       "      <td>-0.002116</td>\n",
       "      <td>0.009686</td>\n",
       "      <td>-0.428325</td>\n",
       "      <td>0.536043</td>\n",
       "      <td>0.278736</td>\n",
       "      <td>0.680976</td>\n",
       "      <td>-0.069295</td>\n",
       "      <td>0.051891</td>\n",
       "      <td>0.76</td>\n",
       "      <td>0</td>\n",
       "    </tr>\n",
       "    <tr>\n",
       "      <th>192581</th>\n",
       "      <td>-1.444958</td>\n",
       "      <td>1.264710</td>\n",
       "      <td>0.370500</td>\n",
       "      <td>-0.607371</td>\n",
       "      <td>0.155386</td>\n",
       "      <td>0.264429</td>\n",
       "      <td>-0.246528</td>\n",
       "      <td>0.703092</td>\n",
       "      <td>0.374768</td>\n",
       "      <td>-0.493145</td>\n",
       "      <td>...</td>\n",
       "      <td>0.271551</td>\n",
       "      <td>1.072854</td>\n",
       "      <td>-0.449656</td>\n",
       "      <td>0.122150</td>\n",
       "      <td>0.209835</td>\n",
       "      <td>-0.081948</td>\n",
       "      <td>0.034733</td>\n",
       "      <td>-0.131398</td>\n",
       "      <td>7.49</td>\n",
       "      <td>0</td>\n",
       "    </tr>\n",
       "  </tbody>\n",
       "</table>\n",
       "<p>54276 rows × 30 columns</p>\n",
       "</div>"
      ],
      "text/plain": [
       "            PC01      PC02      PC03      PC04      PC05      PC06      PC07  \\\n",
       "137250 -0.514509  0.899378  1.627215 -0.142250  0.005250 -0.235422  0.482540   \n",
       "132979 -0.813568 -0.373893  1.152977 -0.449774 -3.868866  2.780636  3.654192   \n",
       "78191  -2.443142  3.258831 -0.791511  0.223548  0.007932 -1.263044  1.220214   \n",
       "113508 -0.397300  0.922104  1.224699 -0.334974  0.322603 -0.117372  0.534683   \n",
       "199222  1.994046 -0.367813 -0.462867  0.338661 -0.485326 -0.241576 -0.590987   \n",
       "...          ...       ...       ...       ...       ...       ...       ...   \n",
       "76424  -0.033583 -0.487672  1.435406 -2.759369 -1.785638  0.402364 -2.306038   \n",
       "264579 -0.731245  1.151677  0.912393 -0.653540  0.700577 -0.461372  1.093273   \n",
       "204332  2.135923 -0.714182 -1.842502 -0.587267  0.090754 -0.465733 -0.024834   \n",
       "167301 -0.335632  0.939736 -2.961515 -1.224739  4.446891  2.352092  0.789725   \n",
       "192581 -1.444958  1.264710  0.370500 -0.607371  0.155386  0.264429 -0.246528   \n",
       "\n",
       "            PC08      PC09      PC10  ...      PC21      PC22      PC23  \\\n",
       "137250  0.247403 -0.562327 -0.166813  ... -0.143290 -0.390205  0.030719   \n",
       "132979 -0.672442  0.753230 -0.662803  ... -0.376783 -0.004239  0.074801   \n",
       "78191  -0.418068  1.860453  4.184883  ... -0.348587  0.531679  0.058990   \n",
       "113508  0.175550 -0.486404 -0.120147  ... -0.239303 -0.695001 -0.128231   \n",
       "199222  0.089319  1.413224 -0.149292  ... -0.196388 -0.484457  0.421867   \n",
       "...          ...       ...       ...  ...       ...       ...       ...   \n",
       "76424  -2.287179  0.129717 -1.036412  ... -1.286823  0.824100  0.018890   \n",
       "264579 -0.126254 -0.339171 -0.467356  ... -0.368185 -0.991854 -0.376461   \n",
       "204332 -0.328747 -0.659832  0.853241  ... -0.537267 -1.081138  0.196589   \n",
       "167301  0.609460 -0.746845 -1.580751  ... -0.002116  0.009686 -0.428325   \n",
       "192581  0.703092  0.374768 -0.493145  ...  0.271551  1.072854 -0.449656   \n",
       "\n",
       "            PC24      PC25      PC26      PC27      PC28  Amount  Fraud  \n",
       "137250  0.184779 -0.348711  0.073253  0.273217  0.107938    3.59      0  \n",
       "132979  0.124238 -0.448493  0.861423 -0.093639 -0.711632  798.01      0  \n",
       "78191   0.371638 -0.207398 -0.505837  0.524542 -0.343895    1.79      0  \n",
       "113508 -0.536463 -0.138971  0.107526  0.255644  0.100814    2.69      0  \n",
       "199222  0.601393 -0.448014 -0.646256  0.027632 -0.027244    4.49      0  \n",
       "...          ...       ...       ...       ...       ...     ...    ...  \n",
       "76424   0.000018  0.301618  0.081215  0.163422  0.252456   10.00      0  \n",
       "264579 -0.661608  0.554237  0.450650  0.076395  0.096252    6.99      0  \n",
       "204332  0.087797 -0.111583  0.479888 -0.082523 -0.053305   64.90      0  \n",
       "167301  0.536043  0.278736  0.680976 -0.069295  0.051891    0.76      0  \n",
       "192581  0.122150  0.209835 -0.081948  0.034733 -0.131398    7.49      0  \n",
       "\n",
       "[54276 rows x 30 columns]"
      ]
     },
     "execution_count": 50,
     "metadata": {},
     "output_type": "execute_result"
    }
   ],
   "source": [
    "# load data\n",
    "fraud_train = pd.read_parquet(\n",
    "    \"https://cs307.org/lab/data/fraud-train.parquet\",\n",
    ")\n",
    "fraud_test = pd.read_parquet(\n",
    "    \"https://cs307.org/lab/data/fraud-test.parquet\",\n",
    ")\n",
    "fraud_train"
   ]
  },
  {
   "cell_type": "markdown",
   "metadata": {},
   "source": [
    "From the train data above, each row represents a transaction and shows its information and whether or not it was fraud or genuine. \n",
    "The variables in the dataset are:\n",
    "### Response \n",
    "\n",
    "**`Fraud`**\n",
    "\n",
    "- [int64] status of the transaction. 1 indicates a fraudulent transaction and 0 indicates not fraud, a genuine transaction.\n",
    "\n",
    "\n",
    "### Features\n",
    "\n",
    "**`Amount`**\n",
    "\n",
    "- [float64] amount (in dollars) of the transaction.\n",
    "\n",
    "**`PC-01 - PC28`**\n",
    "\n",
    "- [float64] the 28 principal components that encode information such as location and type of purchase while preserving customer privacy.\n"
   ]
  },
  {
   "cell_type": "code",
   "execution_count": 51,
   "metadata": {},
   "outputs": [
    {
     "data": {
      "text/plain": [
       "(53961, 30)"
      ]
     },
     "execution_count": 51,
     "metadata": {},
     "output_type": "execute_result"
    }
   ],
   "source": [
    "# summary statistics\n",
    "gen = fraud_train[fraud_train['Fraud'] == 0]\n",
    "gen.shape"
   ]
  },
  {
   "cell_type": "code",
   "execution_count": 52,
   "metadata": {},
   "outputs": [
    {
     "data": {
      "text/plain": [
       "(315, 30)"
      ]
     },
     "execution_count": 52,
     "metadata": {},
     "output_type": "execute_result"
    }
   ],
   "source": [
    "fraud = fraud_train[fraud_train['Fraud'] == 1]\n",
    "fraud.shape"
   ]
  },
  {
   "cell_type": "code",
   "execution_count": 53,
   "metadata": {},
   "outputs": [
    {
     "name": "stdout",
     "output_type": "stream",
     "text": [
      "Genuine proportion is: 0.9941963298695556\n",
      "Fraud proportion is: 0.005803670130444395\n"
     ]
    }
   ],
   "source": [
    "total = 54276\n",
    "gen_porp = 53961 / total\n",
    "fraud_porp = 315 / total\n",
    "print(f'Genuine proportion is: {gen_porp}')\n",
    "print(f'Fraud proportion is: {fraud_porp}')"
   ]
  },
  {
   "cell_type": "code",
   "execution_count": 54,
   "metadata": {},
   "outputs": [
    {
     "name": "stdout",
     "output_type": "stream",
     "text": [
      "count    54276.000000\n",
      "mean        88.197903\n",
      "std        241.535617\n",
      "min          0.000000\n",
      "25%          5.490000\n",
      "50%         21.690000\n",
      "75%         76.000000\n",
      "max      10199.440000\n",
      "Name: Amount, dtype: float64\n",
      "\n",
      "count    53961.000000\n",
      "mean        88.065104\n",
      "std        241.451144\n",
      "min          0.000000\n",
      "25%          5.500000\n",
      "50%         21.800000\n",
      "75%         75.970000\n",
      "max      10199.440000\n",
      "Name: Amount, dtype: float64\n",
      "\n",
      "count     315.000000\n",
      "mean      110.947016\n",
      "std       254.978960\n",
      "min         0.000000\n",
      "25%         1.000000\n",
      "50%         6.990000\n",
      "75%        99.990000\n",
      "max      2125.870000\n",
      "Name: Amount, dtype: float64\n"
     ]
    }
   ],
   "source": [
    "none_amount = fraud_train['Amount'].describe()\n",
    "gen_amount = gen['Amount'].describe()\n",
    "fraud_amount = fraud['Amount'].describe()\n",
    "print(none_amount)\n",
    "print('')\n",
    "print(gen_amount)\n",
    "print('')\n",
    "print(fraud_amount)"
   ]
  },
  {
   "cell_type": "markdown",
   "metadata": {},
   "source": [
    "From the summary statistics above, we are able to see how many transactions were genuine and fraud and we can see descriptive statistics of them such as the mean amount of each category. We also notice that there are far more genuine transactions than frauds. "
   ]
  },
  {
   "cell_type": "code",
   "execution_count": 55,
   "metadata": {},
   "outputs": [
    {
     "data": {
      "image/png": "[encoded data removed]",
      "text/plain": [
       "<Figure size 800x600 with 1 Axes>"
      ]
     },
     "metadata": {},
     "output_type": "display_data"
    }
   ],
   "source": [
    "# exploratory visualization\n",
    "categories = ['Genuine', 'Fraud']\n",
    "means = [none_amount['mean'], fraud_amount['mean']]\n",
    "stds = [none_amount['std'], fraud_amount['std']]\n",
    "\n",
    "plt.figure(figsize=(8, 6))\n",
    "plt.bar(categories, means, yerr=stds, capsize=10, color=['blue', 'red'])\n",
    "plt.ylabel('Transaction Amount ($)')\n",
    "plt.title('Comparison of Transaction Amounts')\n",
    "plt.grid(axis='y', linestyle='--', alpha=0.7)\n",
    "\n",
    "plt.show()"
   ]
  },
  {
   "cell_type": "markdown",
   "metadata": {},
   "source": [
    "The bar plot above lets us see the range of transaction costs of genuine transactions and frauds. We see that fraud transactions have higher costs than of genuine which makes sense since scammers are trying to get the most money they can. "
   ]
  },
  {
   "cell_type": "markdown",
   "metadata": {},
   "source": [
    "### Models"
   ]
  },
  {
   "cell_type": "code",
   "execution_count": 56,
   "metadata": {},
   "outputs": [],
   "source": [
    "# process data for ML\n",
    "X_train = fraud_train.drop(\"Fraud\", axis=1)\n",
    "y_train = fraud_train[\"Fraud\"]\n",
    "\n",
    "# create X and y for test\n",
    "X_test = fraud_test.drop(\"Fraud\", axis=1)\n",
    "y_test = fraud_test[\"Fraud\"]\n"
   ]
  },
  {
   "cell_type": "code",
   "execution_count": 57,
   "metadata": {},
   "outputs": [],
   "source": [
    "# train models\n",
    "rf = RandomForestClassifier(random_state=10)\n",
    "\n",
    "weights_list = [\n",
    "    {0: 1, 1: 3},\n",
    "    \"balanced\",\n",
    "]\n",
    "\n",
    "scoring = {\n",
    "    \"recall\": make_scorer(recall_score),\n",
    "    \"precision\": make_scorer(precision_score, zero_division=0),\n",
    "    \"f1\": make_scorer(fbeta_score, beta=1),\n",
    "}\n",
    "\n",
    "rf_param_grid = {\n",
    "    \"n_estimators\": [200],\n",
    "    \"max_depth\": [10],\n",
    "    \"class_weight\": weights_list,\n",
    "}\n",
    "\n",
    "rf_grid = GridSearchCV(\n",
    "    rf,\n",
    "    rf_param_grid,\n",
    "    cv=5,\n",
    "    scoring=scoring,\n",
    "    refit=\"f1\",\n",
    ")\n",
    "\n",
    "_ = rf_grid.fit(X_train, y_train)"
   ]
  },
  {
   "cell_type": "markdown",
   "metadata": {},
   "source": [
    "After fitting the model with the train data, we will use this for our test data."
   ]
  },
  {
   "cell_type": "markdown",
   "metadata": {},
   "source": [
    "## Results"
   ]
  },
  {
   "cell_type": "code",
   "execution_count": 58,
   "metadata": {},
   "outputs": [
    {
     "name": "stdout",
     "output_type": "stream",
     "text": [
      "\n",
      "Test Precision: 0.9846153846153847\n",
      "Test Recall: 0.810126582278481\n"
     ]
    }
   ],
   "source": [
    "# report model metrics\n",
    "y_pred = rf_grid.predict(X_test)\n",
    "test_precision = precision_score(y_test, y_pred)\n",
    "test_recall = recall_score(y_test, y_pred)\n",
    "print(\"\")\n",
    "print(f\"Test Precision: {test_precision}\")\n",
    "print(f\"Test Recall: {test_recall}\")\n"
   ]
  },
  {
   "cell_type": "markdown",
   "metadata": {},
   "source": [
    "When using the final model on our test data, we are able to achieve a test precision score of 0.98 and a test recall score of 0.81"
   ]
  },
  {
   "cell_type": "code",
   "execution_count": 59,
   "metadata": {},
   "outputs": [
    {
     "data": {
      "text/plain": [
       "['fraud.joblib']"
      ]
     },
     "execution_count": 59,
     "metadata": {},
     "output_type": "execute_result"
    }
   ],
   "source": [
    "# serialize model\n",
    "dump(rf_grid, 'fraud.joblib')"
   ]
  },
  {
   "cell_type": "markdown",
   "metadata": {},
   "source": [
    "## Discussion"
   ]
  },
  {
   "cell_type": "markdown",
   "metadata": {},
   "source": [
    "Our final model achieves a precision score of 0.98% and a recall score of 0.81 which accomplishes our goal of making a model that outperforms a precision score of 0.90 and a recall score of 0.80. This means that when our model predicts a transaction is fraud or not, it is correct 98% of the time. With a recall value of 0.81, this means that our model correctly identifies 81% of all actual fraud transactions.\n",
    "\n",
    "Even though our model out preforms these measurements, we should not use this model. Our precision score is very high which is very good but our recall value is not. When having a recall value of 0.81, this also means that the model misses 19% of all actual fraud cases which can lead to very serious consequences for the customer. \n",
    "\n",
    "Yes, it is nice that our model achieves a very high precision score, as a bank, our priority is the recall value. We do not want our model to predict a transaction as genuine when it is actually a fraud or a type 1 error. And considering that our recall value is only 0.81, we should not use this model. Many of our customers will get scammed which will cause many people to stop choosing our bank.\n",
    "\n",
    "To improve the recall value, we can trade-off with precision where this will increase our recall value but at the same time decrease the precision. We can  try using different models such as K_Nearest_Neighbors and see how that model preforms. If Random Forrest is the best model, then we can increase the penalty for misclassifying fraud transactions by adjusting the class weights in the model.\n",
    "\n",
    "The confusions matrix below shows how well our model classified each transaction and shows which type of transactions it was able to correctly and incorrectly label. We see that the model did a very good job of correctly predicting a transaction when the transaction was actually genuine. On the other hand, we see the model struggles to identify frauds. Out of all 79 fraud transactions, our model was only able to label 64 of them correctly and 15 of them incorrectly. This does not seem much but this is crucial in our case since we do not want a single customer's transactions predicted to be genuine when it is actually a fraud because the customer can lose a significant amount of money. This not only hurts the customer but it will also hurt sales and profits for the bank as well which will be costly in the long run.\n",
    "\n",
    "Overall, we should not use this model because the recall value is too low and the model's percentage of type 1 errors are too high."
   ]
  },
  {
   "cell_type": "code",
   "execution_count": 60,
   "metadata": {},
   "outputs": [
    {
     "data": {
      "image/png": "[encoded data removed]",
      "text/plain": [
       "<Figure size 500x400 with 2 Axes>"
      ]
     },
     "metadata": {},
     "output_type": "display_data"
    }
   ],
   "source": [
    "# summary figure\n",
    "cm = confusion_matrix(y_test, y_pred)\n",
    "plt.figure(figsize=(5,4))\n",
    "sns.heatmap(cm, annot=True, fmt=\"d\", cmap=\"Blues\", xticklabels=[\"Genuine\", \"Fraud\"], yticklabels=[\"Genuine\", \"Fraud\"])\n",
    "plt.xlabel(\"Predicted\")\n",
    "plt.ylabel(\"Actual\")\n",
    "plt.title(\"Confusion Matrix\")\n",
    "plt.show()"
   ]
  }
 ],
 "metadata": {
  "kernelspec": {
   "display_name": ".venv",
   "language": "python",
   "name": "python3"
  },
  "language_info": {
   "codemirror_mode": {
    "name": "ipython",
    "version": 3
   },
   "file_extension": ".py",
   "mimetype": "text/x-python",
   "name": "python",
   "nbconvert_exporter": "python",
   "pygments_lexer": "ipython3",
   "version": "3.12.8"
  }
 },
 "nbformat": 4,
 "nbformat_minor": 2
}
